{
    "cells": [
        {
            "cell_type": "markdown",
            "metadata": {},
            "source": "# Final Report - Applied Data Science Capstone\n##### A report prepared in completion of the IBM Data Science Professional Certificate on Coursera"
        },
        {
            "cell_type": "markdown",
            "metadata": {},
            "source": "## Table of Contents\n<ol>\n    <li>Introduction</li>\n    <li>Data</li>\n    <li>Methodology</li>\n    <li>Results</li>\n    <li>Discussion</li>\n    <li>Conclusion</li>\n    <li>Sources</li>\n    </ol>"
        },
        {
            "cell_type": "markdown",
            "metadata": {
                "collapsed": true
            },
            "source": "## Introduction \n\nFor much of my life, I lived in or near a major college-town in the Midwest of the United States. A few years ago, I made a move to start my career in the mountain West, ending up in another large college-town. After an aquaintance pointed out my tendency to gravitate towards cities of middling size in population with large academic institutions, I will use this project as a means to determine the similiarities between downtown-area neighboorhoods in Madison, Wisconsin and Boulder, Colorado. This type of comparison would be useful to those looking to relocate between similar cities. On a similar note, this analysis could easily be scaled to provide similar information across additional cities for comparisons, to become an advising service for those considering moving themselves."
        },
        {
            "cell_type": "markdown",
            "metadata": {},
            "source": "## Data\n\nZIP codes for the cities in question were retrieved from Zip-codes.com for Boulder [1] and Madison [2]. Due to incompatible web formatting, csv files were generated from the tables on these pages, then read into dataframes. The ZIP code lists were then submitted for quality control, removing NaN entries, ZIP codes specific to P.O. Boxes, and those which had a listed population of 0. After removing unnecessary columns of data, ZIP code coordinates were retrieved from the US Zip Code Latitude and Longitude dataset at Opendatasoft [3] via the API, lightly formatted, and joined to the tabel of ZIP codes for a complete record of populated ZIP codes and coordinates in Madison and Boulder. \n\n\nThe list of Madison and Boulder ZIP codes was then used to retrieve data from the Foursquare API [4] for analysis. A wide variety of attributes were captured in the records, including, but not limited to, neighborhood, coordinates, venue, venue coordinates, and venue category. To keep the analysis concise, five zip codes were chosen to represent the downtown area of each city, with additional limitations of a 1000km radius from the defined coordinates and a maximum of 100 venues per zip code included. This resulted in a dataset of 500 venues for each city, or 1000 in total, which should be considered sufficiently robust for the development of such a model."
        },
        {
            "cell_type": "markdown",
            "metadata": {},
            "source": "## Methodology"
        },
        {
            "cell_type": "markdown",
            "metadata": {},
            "source": "## Results"
        },
        {
            "cell_type": "markdown",
            "metadata": {},
            "source": "## Discussion"
        },
        {
            "cell_type": "markdown",
            "metadata": {},
            "source": "## Conclusion"
        },
        {
            "cell_type": "markdown",
            "metadata": {},
            "source": "## Sources\n\n[1] ZIP Codes for City of Boulder, CO <https://www.zip-codes.com/city/co-boulder.asp>\n\n[2] Zip Codes for City of Madison, WI <https://www.zip-codes.com/city/wi-madison.asp>\n\n[3] US Zip Code Latitude and Longitude <https://public.opendatasoft.com/explore/dataset/us-zip-code-latitude-and-longitude/information/>\n\n[4] Foursquare API <https://developer.foursquare.com/developer/>"
        },
        {
            "cell_type": "code",
            "execution_count": null,
            "metadata": {},
            "outputs": [],
            "source": ""
        }
    ],
    "metadata": {
        "kernelspec": {
            "display_name": "Python 3.7",
            "language": "python",
            "name": "python3"
        },
        "language_info": {
            "codemirror_mode": {
                "name": "ipython",
                "version": 3
            },
            "file_extension": ".py",
            "mimetype": "text/x-python",
            "name": "python",
            "nbconvert_exporter": "python",
            "pygments_lexer": "ipython3",
            "version": "3.7.9"
        }
    },
    "nbformat": 4,
    "nbformat_minor": 1
}