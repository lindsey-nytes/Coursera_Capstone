{
    "cells": [
        {
            "cell_type": "markdown",
            "metadata": {},
            "source": "# Final Report - Applied Data Science Capstone\n##### A report prepared by Lindsey Nytes in completion of the IBM Data Science Professional Certificate on Coursera"
        },
        {
            "cell_type": "markdown",
            "metadata": {
                "collapsed": true
            },
            "source": "## Introduction \n\nAccording to the National Safety Council, around 38,800 fatalities occurred due to car crashes in 2019, with an additional 4.4 million injured (1). Car crashes can typically be attributed to one or a combination of human-error and environmental condition related factors. In the environmental condition category, an estimated 21% of crashes annually are related to weather conditions (2). A model predicting severity of different accidents based on weather conditions could guide motorists in making informed decisions about their vehicular activities during inclement weather. This could have the impact of preventing injury and fatalities. \n\nThe city of Seattle, Washington, is a large metropolitan area situated in the Pacific Northwest of the United States. Due to its geographic placement, the city experiences a wide variety of weather conditions. As such, collision data from the region is appropriate for use in building the model to predict severity of collision.\n\n(1) https://www.nsc.org/road-safety/safety-topics/fatality-estimates\n\n(2) https://ops.fhwa.dot.gov/weather/q1_roadimpact.htm"
        },
        {
            "cell_type": "markdown",
            "metadata": {},
            "source": "## Data\n\nThe data to be used in this assessment comes from the Seattle Department of Transportation, and contains collision data provided by the Seattle Police Department. This data is made publicly available (1), with a separate file detailing metadata (2). A wide variety of attributes are captured in the records, including, but not limited to, both encoded and detailed descriptions of severity, counts of who and what were involved in the collision, injuries, fatalities, and various conditions. Additional categorization consisting of breaking down weather conditions may be useful in predicting severity. Consisting of nearly 195000 records, this dataset should be considered sufficiently robust for the development of such a model.\n\n(1) https://s3.us.cloud-object-storage.appdomain.cloud/cf-courses-data/CognitiveClass/DP0701EN/version-2/Data-Collisions.csv\n\n(2) https://s3.us.cloud-object-storage.appdomain.cloud/cf-courses-data/CognitiveClass/DP0701EN/version-2/Metadata.pdf"
        },
        {
            "cell_type": "markdown",
            "metadata": {},
            "source": "## Methodology"
        },
        {
            "cell_type": "markdown",
            "metadata": {},
            "source": "## Results"
        },
        {
            "cell_type": "markdown",
            "metadata": {},
            "source": "## Discussion"
        },
        {
            "cell_type": "markdown",
            "metadata": {},
            "source": "## Conclusion"
        },
        {
            "cell_type": "markdown",
            "metadata": {},
            "source": "## Sources"
        },
        {
            "cell_type": "code",
            "execution_count": null,
            "metadata": {},
            "outputs": [],
            "source": ""
        }
    ],
    "metadata": {
        "kernelspec": {
            "display_name": "Python 3.7",
            "language": "python",
            "name": "python3"
        },
        "language_info": {
            "codemirror_mode": {
                "name": "ipython",
                "version": 3
            },
            "file_extension": ".py",
            "mimetype": "text/x-python",
            "name": "python",
            "nbconvert_exporter": "python",
            "pygments_lexer": "ipython3",
            "version": "3.7.9"
        }
    },
    "nbformat": 4,
    "nbformat_minor": 1
}